{
  "nbformat": 4,
  "nbformat_minor": 0,
  "metadata": {
    "colab": {
      "name": "Prakash_mandekar_Assignment_Day_2.ipynb",
      "provenance": []
    },
    "kernelspec": {
      "name": "python3",
      "display_name": "Python 3"
    }
  },
  "cells": [
    {
      "cell_type": "markdown",
      "metadata": {
        "id": "n0KuYPCj_KPf"
      },
      "source": [
        "# Assignment Day 2 Homework Solution\n",
        "- Data Science 101 Course\n",
        "- Name- Prakash Mandekar\n",
        "- Mail Id - prakashmandekar8@gmail.com"
      ]
    },
    {
      "cell_type": "markdown",
      "metadata": {
        "id": "az0qzGVa_m1u"
      },
      "source": [
        "### Questions 1:\n",
        "- Create an empty list. Accept 10 numbers from the user and append to it the list if it is an even number."
      ]
    },
    {
      "cell_type": "code",
      "metadata": {
        "id": "BDjqOGtH_gM2",
        "outputId": "df2c1a9d-1d7d-4014-b841-677a5df122de",
        "colab": {
          "base_uri": "https://localhost:8080/"
        }
      },
      "source": [
        "a=[]\n",
        "for i in range(10):\n",
        "    b=int(input(\"Enter elements:\"))\n",
        "    a.append(b)\n",
        "even=[]\n",
        "odd=[]\n",
        "for j in a:\n",
        "    if(j%2==0):\n",
        "        even.append(j)\n",
        "    else:\n",
        "        odd.append(j)\n",
        "print(\"The even list\",even)"
      ],
      "execution_count": 11,
      "outputs": [
        {
          "output_type": "stream",
          "text": [
            "Enter elements:1\n",
            "Enter elements:2\n",
            "Enter elements:3\n",
            "Enter elements:4\n",
            "Enter elements:5\n",
            "Enter elements:6\n",
            "Enter elements:7\n",
            "Enter elements:8\n",
            "Enter elements:9\n",
            "Enter elements:10\n",
            "The even list [2, 4, 6, 8, 10]\n"
          ],
          "name": "stdout"
        }
      ]
    },
    {
      "cell_type": "markdown",
      "metadata": {
        "id": "AbnIF2KIAp72"
      },
      "source": [
        "### Question 2\n",
        "- Create a notebook on LIST COMPREHENSION. This exercise is to put you in a Self learning mode"
      ]
    },
    {
      "cell_type": "markdown",
      "metadata": {
        "id": "PH6x1dRCAWAG"
      },
      "source": [
        "## List Comprehension vs For Loop in Python\n",
        "- Suppose, we want to separate the letters of the word human and add the letters as items of a list. The first thing that comes in mind would be using for loop."
      ]
    },
    {
      "cell_type": "markdown",
      "metadata": {
        "id": "yJkieTMJAb2b"
      },
      "source": [
        "### For loop\n",
        "- We will see the difference between for loop and list comprehension.\n",
        "\n",
        "- Iterating through a string Using for Loop"
      ]
    },
    {
      "cell_type": "code",
      "metadata": {
        "id": "6Yac_ANO_gA2",
        "outputId": "2199648f-bba1-4db0-a577-9e925cbb90af",
        "colab": {
          "base_uri": "https://localhost:8080/"
        }
      },
      "source": [
        "h_letters = []\n",
        "\n",
        "for letter in 'human':\n",
        "    h_letters.append(letter)\n",
        "\n",
        "print(h_letters)"
      ],
      "execution_count": 12,
      "outputs": [
        {
          "output_type": "stream",
          "text": [
            "['h', 'u', 'm', 'a', 'n']\n"
          ],
          "name": "stdout"
        }
      ]
    },
    {
      "cell_type": "markdown",
      "metadata": {
        "id": "aXhaFipLANhX"
      },
      "source": [
        "### List Comprehension.\n",
        "- List comprehension is an elegant way to define and create lists based on existing lists.\n",
        "\n",
        "- Let’s see how the above program can be written using list comprehensions."
      ]
    },
    {
      "cell_type": "code",
      "metadata": {
        "id": "EynTheqPC4os",
        "outputId": "9a7fe5ec-91af-433a-e45f-ce96c81a4aeb",
        "colab": {
          "base_uri": "https://localhost:8080/"
        }
      },
      "source": [
        "h_letters = [ letter for letter in 'human' ]\n",
        "print( h_letters)"
      ],
      "execution_count": 13,
      "outputs": [
        {
          "output_type": "stream",
          "text": [
            "['h', 'u', 'm', 'a', 'n']\n"
          ],
          "name": "stdout"
        }
      ]
    },
    {
      "cell_type": "markdown",
      "metadata": {
        "id": "MsfOOD8bC8a9"
      },
      "source": [
        "### Conditionals in List Comprehension\n",
        "- List comprehensions can utilize conditional statement to modify existing list (or other tuples).\n",
        "- We will create list that uses mathematical operators, integers, and range()"
      ]
    },
    {
      "cell_type": "code",
      "metadata": {
        "id": "bEXL_9FxDDJ9",
        "outputId": "2df64952-3ad3-4e14-ebb6-9d73bda80268",
        "colab": {
          "base_uri": "https://localhost:8080/"
        }
      },
      "source": [
        "# Using if with List Comprehension\n",
        "number_list = [ x for x in range(20) if x % 2 == 0]\n",
        "print(number_list)"
      ],
      "execution_count": 14,
      "outputs": [
        {
          "output_type": "stream",
          "text": [
            "[0, 2, 4, 6, 8, 10, 12, 14, 16, 18]\n"
          ],
          "name": "stdout"
        }
      ]
    },
    {
      "cell_type": "code",
      "metadata": {
        "id": "Fs9DkB8-DGdH",
        "outputId": "f8164250-9e5a-4a00-aaeb-6b7c7f5276ac",
        "colab": {
          "base_uri": "https://localhost:8080/"
        }
      },
      "source": [
        "# Nested IF with List Comprehension\n",
        "num_list = [y for y in range(100) if y % 2 == 0 if y % 5 == 0]\n",
        "print(num_list)"
      ],
      "execution_count": 15,
      "outputs": [
        {
          "output_type": "stream",
          "text": [
            "[0, 10, 20, 30, 40, 50, 60, 70, 80, 90]\n"
          ],
          "name": "stdout"
        }
      ]
    },
    {
      "cell_type": "code",
      "metadata": {
        "id": "emyVkJv1DJv0",
        "outputId": "6e98bdbe-8e65-446c-d409-e8c8acf0008f",
        "colab": {
          "base_uri": "https://localhost:8080/"
        }
      },
      "source": [
        "# if...else With List Comprehension\n",
        "obj = [\"Even\" if i%2==0 else \"Odd\" for i in range(10)]\n",
        "print(obj)"
      ],
      "execution_count": 16,
      "outputs": [
        {
          "output_type": "stream",
          "text": [
            "['Even', 'Odd', 'Even', 'Odd', 'Even', 'Odd', 'Even', 'Odd', 'Even', 'Odd']\n"
          ],
          "name": "stdout"
        }
      ]
    },
    {
      "cell_type": "markdown",
      "metadata": {
        "id": "Q8pVSQGDAwzN"
      },
      "source": [
        "### Key Points to Remember\n",
        "- List comprehension is an elegant way to define and create lists based on existing lists.\n",
        "- List comprehension is generally more compact and faster than normal functions and loops for creating list.\n",
        "- However, we should avoid writing very long list comprehensions in one line to ensure that code is user-friendly.\n",
        "- Remember, every list comprehension can be rewritten in for loop, but every for loop can’t be rewritten in the form of list comprehension."
      ]
    },
    {
      "cell_type": "markdown",
      "metadata": {
        "id": "ckeu13_uDO9e"
      },
      "source": [
        "### Questions 3:\n",
        "- You have seen in the videos how powerful dictionary data structure is.\n",
        "- In this assignment, given a number n, you have to write a program that generates a dictionary d which\n",
        "contains (i, i*i), where i is from 1 to n (both included).\n",
        "- Then you have to just print this dictionary d.\n",
        "- Example:\n",
        "Input: 4\n",
        "will give output as\n",
        "{1: 1, 2: 4, 3: 9, 4: 16}\n",
        "- Input Format:\n",
        "Take the number n in a single line.\n",
        "- Output Format:\n",
        "Print the dictionary d in a single line."
      ]
    },
    {
      "cell_type": "code",
      "metadata": {
        "id": "L63QS7tLDWbk",
        "outputId": "63c5fb42-12eb-43b4-e990-8f694052c475",
        "colab": {
          "base_uri": "https://localhost:8080/"
        }
      },
      "source": [
        "n = int(input(\" \"))\n",
        "d = {i:i*i for i in range(1,n+1)}\n",
        "print(d)"
      ],
      "execution_count": 17,
      "outputs": [
        {
          "output_type": "stream",
          "text": [
            " 10\n",
            "{1: 1, 2: 4, 3: 9, 4: 16, 5: 25, 6: 36, 7: 49, 8: 64, 9: 81, 10: 100}\n"
          ],
          "name": "stdout"
        }
      ]
    },
    {
      "cell_type": "markdown",
      "metadata": {
        "id": "7_kVkAxGDi3_"
      },
      "source": [
        "### Questions 4:"
      ]
    },
    {
      "cell_type": "code",
      "metadata": {
        "id": "XojhDOAWCYev",
        "outputId": "f584cf15-9109-4c4f-ae88-f7845ac3ec35",
        "colab": {
          "base_uri": "https://localhost:8080/"
        }
      },
      "source": [
        "pos=0\n",
        "moves={\"UP\":1j,\n",
        "       \"DOWN\":-1j,\n",
        "       \"LEFT\":-1,\n",
        "       \"RIGHT\":1}\n",
        "\n",
        "#Set inputs\n",
        "data=[\"UP 5\",\n",
        "    \"DOWN 3\",\n",
        "    \"LEFT 3\",\n",
        "    \"RIGHT 2\"]\n",
        "\n",
        "#Move robot on valid moves\n",
        "for inp in data:\n",
        "    parts=inp.split()    \n",
        "    mv=parts[0]\n",
        "    val=parts[1]\n",
        "    print (mv, val)\n",
        "    pos += moves[mv]*int(val)\n",
        "\n",
        "#get distance     \n",
        "print('Rounded distance from zero position:', round(abs(pos)))"
      ],
      "execution_count": 18,
      "outputs": [
        {
          "output_type": "stream",
          "text": [
            "UP 5\n",
            "DOWN 3\n",
            "LEFT 3\n",
            "RIGHT 2\n",
            "Rounded distance from zero position: 2\n"
          ],
          "name": "stdout"
        }
      ]
    },
    {
      "cell_type": "code",
      "metadata": {
        "id": "mSwHZpZ__A00"
      },
      "source": [
        ""
      ],
      "execution_count": null,
      "outputs": []
    },
    {
      "cell_type": "code",
      "metadata": {
        "id": "enoS004kCiDT"
      },
      "source": [
        ""
      ],
      "execution_count": 3,
      "outputs": []
    }
  ]
}