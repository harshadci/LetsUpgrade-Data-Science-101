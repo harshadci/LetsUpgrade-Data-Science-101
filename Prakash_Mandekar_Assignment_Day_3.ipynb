{
  "nbformat": 4,
  "nbformat_minor": 0,
  "metadata": {
    "colab": {
      "name": "Prakash_Mandekar_Assignment_Day_3.ipynb",
      "provenance": []
    },
    "kernelspec": {
      "name": "python3",
      "display_name": "Python 3"
    }
  },
  "cells": [
    {
      "cell_type": "markdown",
      "metadata": {
        "id": "PpKlBdY-HyMO"
      },
      "source": [
        "# Assignment Day 3 Homework Solution\n",
        "- Data Science 101 Course\n",
        "- Name- Prakash Mandekar\n",
        "- Mail Id - prakashmandekar8@gmail.com"
      ]
    },
    {
      "cell_type": "markdown",
      "metadata": {
        "id": "ZgXV79ikIXwi"
      },
      "source": [
        "### Questions 1:\n",
        "- Create a numpy array starting from 2 till 50 with a stepsize of 3."
      ]
    },
    {
      "cell_type": "code",
      "metadata": {
        "id": "YvPIjrhYISlk",
        "outputId": "2fdff225-8383-4161-f8e9-f6291bfd6660",
        "colab": {
          "base_uri": "https://localhost:8080/"
        }
      },
      "source": [
        "import numpy as np \n",
        "  \n",
        "# Printing all numbers from 2 to 50 in steps of 3 \n",
        "print(np.arange(2, 50, 3)) "
      ],
      "execution_count": 1,
      "outputs": [
        {
          "output_type": "stream",
          "text": [
            "[ 2  5  8 11 14 17 20 23 26 29 32 35 38 41 44 47]\n"
          ],
          "name": "stdout"
        }
      ]
    },
    {
      "cell_type": "markdown",
      "metadata": {
        "id": "8GeRcPjHIhm8"
      },
      "source": [
        "### Questions 2:\n",
        "- Accept two lists of 5 elements each from the user.\n",
        "- Convert them to numpy arrays. Concatenate these arrays and print it. \n",
        "- Also sort these arrays and print it."
      ]
    },
    {
      "cell_type": "code",
      "metadata": {
        "id": "FtMz4X5tIcwr",
        "outputId": "233e10bf-d917-49c2-a934-75ab0c19d3f2",
        "colab": {
          "base_uri": "https://localhost:8080/"
        }
      },
      "source": [
        "import numpy \n",
        "First_list = int(input(\"Enter the size of list \"))\n",
        "print(\"\\n\")\n",
        "numList_1 = list(int(num) for num in input(\"Enter the list numbers separated by space \").strip().split())[:First_list]\n",
        "print(\"First List: \", numList_1)\n",
        "print(\"\\n\")\n",
        "Second_list = int(input(\"Enter the size of list \"))\n",
        "print(\"\\n\")\n",
        "numList_2 = list(int(num) for num in input(\"Enter the list numbers separated by space \").strip().split())[:Second_list]\n",
        "print(\"Second List: \", numList_2)\n",
        "print(\"\\n\")\n",
        "Array_1 = numpy.array(numList_1)\n",
        "Array_2 = numpy.array(numList_2)\n",
        "\n",
        "print(\"Array1 as Numpy_Array \",Array_1)\n",
        "print(\"Array2 as Numpy_Array \",Array_2)\n",
        "print(\"\\n\")\n",
        "\n",
        "Concatenated_array = numpy.concatenate((Array_1, Array_2), axis=0)\n",
        "print(\"Concatenated array \", Concatenated_array)\n",
        "print(\"\\n\")\n",
        "Concatenated_array.sort()\n",
        "print(\"Sorted Array \", Concatenated_array)\n"
      ],
      "execution_count": 19,
      "outputs": [
        {
          "output_type": "stream",
          "text": [
            "Enter the size of list 5\n",
            "\n",
            "\n",
            "Enter the list numbers separated by space 52 41 5 69 95 \n",
            "First List:  [52, 41, 5, 69, 95]\n",
            "\n",
            "\n",
            "Enter the size of list 5\n",
            "\n",
            "\n",
            "Enter the list numbers separated by space 112 47 6 32 95\n",
            "Second List:  [112, 47, 6, 32, 95]\n",
            "\n",
            "\n",
            "Array1 as Numpy_Array  [52 41  5 69 95]\n",
            "Array2 as Numpy_Array  [112  47   6  32  95]\n",
            "\n",
            "\n",
            "Concatenated array  [ 52  41   5  69  95 112  47   6  32  95]\n",
            "\n",
            "\n",
            "Sorted Array  [  5   6  32  41  47  52  69  95  95 112]\n"
          ],
          "name": "stdout"
        }
      ]
    },
    {
      "cell_type": "markdown",
      "metadata": {
        "id": "D6Fj7X0NQnq5"
      },
      "source": [
        "### Questions 3:\n",
        "- Write a code snippet to find the dimensions of a ndarray and its size."
      ]
    },
    {
      "cell_type": "code",
      "metadata": {
        "id": "ZllQ0W4OJ1lS",
        "outputId": "3e3c6b9c-5f03-40e5-b348-d9c0b2c74670",
        "colab": {
          "base_uri": "https://localhost:8080/"
        }
      },
      "source": [
        "# Create a 2D Numpy array list of list\n",
        "arr2D = np.array([[11 ,12,13,11], [21, 22, 23, 24], [31,32,33,34]])\n",
        "print('2D Numpy Array')\n",
        "print(arr2D)\n",
        "print(\"\\n\")\n",
        "# get number of rows in 2D numpy array\n",
        "numOfRows = np.size(arr2D, 0)\n",
        "# get number of columns in 2D numpy array\n",
        "numOfColumns = np.size(arr2D, 1)\n",
        "print('Number of Rows : ', numOfRows)\n",
        "print('Number of Columns : ', numOfColumns)"
      ],
      "execution_count": 22,
      "outputs": [
        {
          "output_type": "stream",
          "text": [
            "2D Numpy Array\n",
            "[[11 12 13 11]\n",
            " [21 22 23 24]\n",
            " [31 32 33 34]]\n",
            "\n",
            "\n",
            "Number of Rows :  3\n",
            "Number of Columns :  4\n"
          ],
          "name": "stdout"
        }
      ]
    },
    {
      "cell_type": "markdown",
      "metadata": {
        "id": "DfOd_ftWaL4g"
      },
      "source": [
        "### Questions 4:\n",
        "\n",
        "- How to convert a 1D array into a 2D array? Demonstrate with the help of a code snippet\n",
        "- Hint: np.newaxis, np.expand_dims"
      ]
    },
    {
      "cell_type": "code",
      "metadata": {
        "id": "a7DpQmUiaLTj",
        "outputId": "46ec4753-86e4-480c-a85e-a2315300df78",
        "colab": {
          "base_uri": "https://localhost:8080/"
        }
      },
      "source": [
        "# create 1D numpy array from a list\n",
        "arr = np.array([0, 1, 2, 3, 4, 5, 6, 7, 8, 9])\n",
        "print('1D Numpy array:')\n",
        "print(arr)\n",
        "print(\"\\n\")\n",
        "\n",
        "arr = np.array([0, 1, 2, 3, 4, 5, 6, 7, 8, 9])\n",
        "# Convert 1D array to a 2D numpy array of 2 rows and 3 columns\n",
        "arr_2d = np.reshape(arr, (2, 5))\n",
        "print(\"2D Array \")\n",
        "print(arr_2d)"
      ],
      "execution_count": 25,
      "outputs": [
        {
          "output_type": "stream",
          "text": [
            "1D Numpy array:\n",
            "[0 1 2 3 4 5 6 7 8 9]\n",
            "\n",
            "\n",
            "2D Array \n",
            "[[0 1 2 3 4]\n",
            " [5 6 7 8 9]]\n"
          ],
          "name": "stdout"
        }
      ]
    },
    {
      "cell_type": "markdown",
      "metadata": {
        "id": "Xn_hqlDXbTZ3"
      },
      "source": [
        "### Questions 5:\n",
        "- Consider two square numpy arrays. Stack them vertically and horizontally.\n",
        "- Hint: Use vstack(), hstack()"
      ]
    },
    {
      "cell_type": "code",
      "metadata": {
        "id": "LvDO8HqwZ2zb",
        "outputId": "b58a0848-29c3-4592-cb17-28151e6265dc",
        "colab": {
          "base_uri": "https://localhost:8080/"
        }
      },
      "source": [
        "a = np.array([[1, 2], \n",
        "              [3, 4]]) \n",
        "  \n",
        "b = np.array([[5, 6], \n",
        "              [7, 8]]) \n",
        "  \n",
        "# vertical stacking \n",
        "print(\"Vertical stacking:\\n\", np.vstack((a, b))) \n",
        "  \n",
        "# horizontal stacking \n",
        "print(\"\\nHorizontal stacking:\\n\", np.hstack((a, b)))"
      ],
      "execution_count": 26,
      "outputs": [
        {
          "output_type": "stream",
          "text": [
            "Vertical stacking:\n",
            " [[1 2]\n",
            " [3 4]\n",
            " [5 6]\n",
            " [7 8]]\n",
            "\n",
            "Horizontal stacking:\n",
            " [[1 2 5 6]\n",
            " [3 4 7 8]]\n"
          ],
          "name": "stdout"
        }
      ]
    },
    {
      "cell_type": "markdown",
      "metadata": {
        "id": "nRZMcOpgcACf"
      },
      "source": [
        "### Questions 6:\n",
        "- How to get unique items and counts of unique items?"
      ]
    },
    {
      "cell_type": "code",
      "metadata": {
        "id": "bz7EBesqb5wX",
        "outputId": "1b1ea7eb-3f6c-44d7-be85-4591a836fa56",
        "colab": {
          "base_uri": "https://localhost:8080/"
        }
      },
      "source": [
        "def unique(list1): \n",
        "    x = np.array(list1) \n",
        "    print(np.unique(x)) \n",
        "      \n",
        "# driver code \n",
        "list1 = [10, 20, 10, 30, 40, 40] \n",
        "print(\"The unique values from 1st list is\") \n",
        "unique(list1) \n",
        "  \n",
        "# converting our list to set \n",
        "new_set = set(list1) \n",
        "print(\"No of unique items in the list are:\", len(new_set))"
      ],
      "execution_count": 30,
      "outputs": [
        {
          "output_type": "stream",
          "text": [
            "The unique values from 1st list is\n",
            "[10 20 30 40]\n",
            "No of unique items in the list are: 4\n"
          ],
          "name": "stdout"
        }
      ]
    },
    {
      "cell_type": "code",
      "metadata": {
        "id": "9tEDUx5DdHjf"
      },
      "source": [
        ""
      ],
      "execution_count": null,
      "outputs": []
    }
  ]
}